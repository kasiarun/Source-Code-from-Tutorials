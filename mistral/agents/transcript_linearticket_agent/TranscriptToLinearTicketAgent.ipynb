{
  "cells": [
    {
      "cell_type": "markdown",
      "metadata": {
        "id": "HMUSJ0vRH_XL",
        "vscode": {
          "languageId": "plaintext"
        }
      },
      "source": [
        "# Call Transcript-to-PRD-to-Ticket Agent: Converting Meeting Transcripts to Linear Tickets using Mistral AI LLMs\n",
        "\n",
        "<a href=\"https://colab.research.google.com/github/mistralai/cookbook/blob/main/mistral/agents/transcript_linearticket_agent/TranscriptToLinearTicketAgent.ipynb\" target=\"_parent\"><img src=\"https://colab.research.google.com/assets/colab-badge.svg\" alt=\"Open In Colab\"/></a>\n",
        "\n",
        "## Problem Statement\n",
        "In modern software development, a significant challenge is efficiently converting customer calls and meetings into actionable development tickets. This process typically involves:\n",
        "- Manual note-taking during calls\n",
        "- Converting notes into Product Requirements Documents (PRDs)\n",
        "- Breaking down PRDs into actionable tickets\n",
        "- Creating and managing tickets in project management tools (ex:- Linear)\n",
        "\n",
        "This manual process is:\n",
        "- Time-consuming\n",
        "- Prone to information loss\n",
        "- Subject to inconsistencies\n",
        "- Difficult to scale\n",
        "\n",
        "## Our Solution\n",
        "We've created an automated pipeline that leverages Mistral's LLM and OCR models to streamline this process:\n",
        "\n",
        "### Stage 1: PRD Generation\n",
        "- Takes raw call transcripts as input (parsed using Mistral OCR)\n",
        "- Uses Mistral AI LLM to generate structured PRD\n",
        "- Implements iterative refinement for accuracy\n",
        "- Ensures alignment with original discussion (from transcript)\n",
        "\n",
        "### Stage 2: Feature & Technical requirements Extraction\n",
        "- Analyzes PRD to identify distinct features\n",
        "- Extracts technical requirements\n",
        "- Captures constraints and success metrics\n",
        "- Maintains traceability to original content(call/ transcript)\n",
        "\n",
        "## Mistral LLM Integration\n",
        "\n",
        "The solution uses several Mistral AI LLM capabilities:\n",
        "\n",
        "1. **Chat Completion API**\n",
        "   - Used for PRD generation\n",
        "   - Handles iterative refinement\n",
        "   - Processes feedback and improvements\n",
        "\n",
        "2. **Structured Output**\n",
        "   - Formats PRD content\n",
        "   - Extracts feature lists\n",
        "   - Generates ticket descriptions\n",
        "\n",
        "3. **Context Management**\n",
        "   - Maintains consistency across iterations\n",
        "   - Preserves original transcript context\n",
        "   - Ensures accurate information flow\n",
        "\n",
        "This notebook walks through the implementation of this pipeline, demonstrating how to automate the journey from call transcripts to PRD creation to actionable development tickets on Linear."
      ]
    },
    {
      "cell_type": "markdown",
      "metadata": {
        "id": "fbtDH_D7H_XN"
      },
      "source": [
        "![Solution Architecture](https://github.com/mistralai/cookbook/blob/main/mistral/agents/transcript_linearticket_agent/solution_architecture.png?raw=1)"
      ]
    },
    {
      "cell_type": "markdown",
      "metadata": {
        "id": "s_JiuIm_H_XN"
      },
      "source": [
        "### Installation"
      ]
    },
    {
      "cell_type": "code",
      "execution_count": 1,
      "metadata": {
        "colab": {
          "base_uri": "https://localhost:8080/"
        },
        "id": "k7YoFWHlH_XN",
        "outputId": "8a538873-1cac-43cf-c7f9-f4f02b419a20"
      },
      "outputs": [
        {
          "output_type": "stream",
          "name": "stdout",
          "text": [
            "Requirement already satisfied: mistralai==1.5.1 in /usr/local/lib/python3.11/dist-packages (1.5.1)\n",
            "Requirement already satisfied: eval-type-backport>=0.2.0 in /usr/local/lib/python3.11/dist-packages (from mistralai==1.5.1) (0.2.2)\n",
            "Requirement already satisfied: httpx>=0.27.0 in /usr/local/lib/python3.11/dist-packages (from mistralai==1.5.1) (0.28.1)\n",
            "Requirement already satisfied: jsonpath-python>=1.0.6 in /usr/local/lib/python3.11/dist-packages (from mistralai==1.5.1) (1.0.6)\n",
            "Requirement already satisfied: pydantic>=2.9.0 in /usr/local/lib/python3.11/dist-packages (from mistralai==1.5.1) (2.10.6)\n",
            "Requirement already satisfied: python-dateutil>=2.8.2 in /usr/local/lib/python3.11/dist-packages (from mistralai==1.5.1) (2.8.2)\n",
            "Requirement already satisfied: typing-inspect>=0.9.0 in /usr/local/lib/python3.11/dist-packages (from mistralai==1.5.1) (0.9.0)\n",
            "Requirement already satisfied: anyio in /usr/local/lib/python3.11/dist-packages (from httpx>=0.27.0->mistralai==1.5.1) (3.7.1)\n",
            "Requirement already satisfied: certifi in /usr/local/lib/python3.11/dist-packages (from httpx>=0.27.0->mistralai==1.5.1) (2025.1.31)\n",
            "Requirement already satisfied: httpcore==1.* in /usr/local/lib/python3.11/dist-packages (from httpx>=0.27.0->mistralai==1.5.1) (1.0.7)\n",
            "Requirement already satisfied: idna in /usr/local/lib/python3.11/dist-packages (from httpx>=0.27.0->mistralai==1.5.1) (3.10)\n",
            "Requirement already satisfied: h11<0.15,>=0.13 in /usr/local/lib/python3.11/dist-packages (from httpcore==1.*->httpx>=0.27.0->mistralai==1.5.1) (0.14.0)\n",
            "Requirement already satisfied: annotated-types>=0.6.0 in /usr/local/lib/python3.11/dist-packages (from pydantic>=2.9.0->mistralai==1.5.1) (0.7.0)\n",
            "Requirement already satisfied: pydantic-core==2.27.2 in /usr/local/lib/python3.11/dist-packages (from pydantic>=2.9.0->mistralai==1.5.1) (2.27.2)\n",
            "Requirement already satisfied: typing-extensions>=4.12.2 in /usr/local/lib/python3.11/dist-packages (from pydantic>=2.9.0->mistralai==1.5.1) (4.12.2)\n",
            "Requirement already satisfied: six>=1.5 in /usr/local/lib/python3.11/dist-packages (from python-dateutil>=2.8.2->mistralai==1.5.1) (1.17.0)\n",
            "Requirement already satisfied: mypy-extensions>=0.3.0 in /usr/local/lib/python3.11/dist-packages (from typing-inspect>=0.9.0->mistralai==1.5.1) (1.0.0)\n",
            "Requirement already satisfied: sniffio>=1.1 in /usr/local/lib/python3.11/dist-packages (from anyio->httpx>=0.27.0->mistralai==1.5.1) (1.3.1)\n",
            "Requirement already satisfied: gql==3.5.0 in /usr/local/lib/python3.11/dist-packages (3.5.0)\n",
            "Requirement already satisfied: graphql-core<3.3,>=3.2 in /usr/local/lib/python3.11/dist-packages (from gql==3.5.0) (3.2.6)\n",
            "Requirement already satisfied: yarl<2.0,>=1.6 in /usr/local/lib/python3.11/dist-packages (from gql==3.5.0) (1.18.3)\n",
            "Requirement already satisfied: backoff<3.0,>=1.11.1 in /usr/local/lib/python3.11/dist-packages (from gql==3.5.0) (2.2.1)\n",
            "Requirement already satisfied: anyio<5,>=3.0 in /usr/local/lib/python3.11/dist-packages (from gql==3.5.0) (3.7.1)\n",
            "Requirement already satisfied: idna>=2.8 in /usr/local/lib/python3.11/dist-packages (from anyio<5,>=3.0->gql==3.5.0) (3.10)\n",
            "Requirement already satisfied: sniffio>=1.1 in /usr/local/lib/python3.11/dist-packages (from anyio<5,>=3.0->gql==3.5.0) (1.3.1)\n",
            "Requirement already satisfied: multidict>=4.0 in /usr/local/lib/python3.11/dist-packages (from yarl<2.0,>=1.6->gql==3.5.0) (6.1.0)\n",
            "Requirement already satisfied: propcache>=0.2.0 in /usr/local/lib/python3.11/dist-packages (from yarl<2.0,>=1.6->gql==3.5.0) (0.3.0)\n",
            "Requirement already satisfied: pydantic==2.10.6 in /usr/local/lib/python3.11/dist-packages (2.10.6)\n",
            "Requirement already satisfied: annotated-types>=0.6.0 in /usr/local/lib/python3.11/dist-packages (from pydantic==2.10.6) (0.7.0)\n",
            "Requirement already satisfied: pydantic-core==2.27.2 in /usr/local/lib/python3.11/dist-packages (from pydantic==2.10.6) (2.27.2)\n",
            "Requirement already satisfied: typing-extensions>=4.12.2 in /usr/local/lib/python3.11/dist-packages (from pydantic==2.10.6) (4.12.2)\n",
            "Requirement already satisfied: pypdf==5.3.0 in /usr/local/lib/python3.11/dist-packages (5.3.0)\n"
          ]
        }
      ],
      "source": [
        "!pip install mistralai==1.5.1 # MistralAI\n",
        "!pip install gql==3.5.0 # GraphQL\n",
        "!pip install pydantic==2.10.6 # Data validation\n",
        "!pip install pypdf==5.3.0  # PDF processing"
      ]
    },
    {
      "cell_type": "markdown",
      "metadata": {
        "id": "1jGe6-ubH_XO"
      },
      "source": [
        "### Imports"
      ]
    },
    {
      "cell_type": "code",
      "execution_count": 2,
      "metadata": {
        "id": "lUVNhp-OH_XO"
      },
      "outputs": [],
      "source": [
        "from mistralai import Mistral\n",
        "from gql import gql, Client\n",
        "from gql.transport.requests import RequestsHTTPTransport\n",
        "from pydantic import BaseModel\n",
        "from typing import List, Dict, Optional, Any\n",
        "from dataclasses import dataclass\n",
        "from pypdf import PdfReader\n",
        "import json"
      ]
    },
    {
      "cell_type": "markdown",
      "metadata": {
        "id": "AYiQD4MjH_XP"
      },
      "source": [
        "### Download Call Transcript\n",
        "\n",
        "For this demonstration we will use a product call regarding LeChat.\n",
        "\n",
        "*Note*: The trascript is synthetically generated just for the demonstration purposes."
      ]
    },
    {
      "cell_type": "code",
      "source": [
        "!wget 'https://raw.githubusercontent.com/mistralai/cookbook/main/mistral/agents/transcript_linearticket_agent/lechat_product_call_trascript.pdf' -O './lechat_product_call_trascript.pdf'"
      ],
      "metadata": {
        "id": "gLB0IeLJ32mh",
        "outputId": "2565998b-9ba8-406e-85cb-a0f2e3526777",
        "colab": {
          "base_uri": "https://localhost:8080/"
        }
      },
      "execution_count": 3,
      "outputs": [
        {
          "output_type": "stream",
          "name": "stdout",
          "text": [
            "--2025-03-12 13:46:14--  https://raw.githubusercontent.com/mistralai/cookbook/main/mistral/agents/transcript_linearticket_agent/lechat_product_call_trascript.pdf\n",
            "Resolving raw.githubusercontent.com (raw.githubusercontent.com)... 185.199.110.133, 185.199.109.133, 185.199.111.133, ...\n",
            "Connecting to raw.githubusercontent.com (raw.githubusercontent.com)|185.199.110.133|:443... connected.\n",
            "HTTP request sent, awaiting response... 200 OK\n",
            "Length: 33611 (33K) [application/octet-stream]\n",
            "Saving to: ‘./lechat_product_call_trascript.pdf’\n",
            "\n",
            "./lechat_product_ca 100%[===================>]  32.82K  --.-KB/s    in 0.04s   \n",
            "\n",
            "2025-03-12 13:46:15 (805 KB/s) - ‘./lechat_product_call_trascript.pdf’ saved [33611/33611]\n",
            "\n"
          ]
        }
      ]
    },
    {
      "cell_type": "markdown",
      "metadata": {
        "id": "p2-ebm3XH_XP"
      },
      "source": [
        "### Configuration and Setup\n",
        "\n",
        "Our pipeline integrates Mistral AI LLM for PRD generation and Linear for ticket management. Let's set up the required configurations:\n",
        "\n",
        "## API Setup\n",
        "1. **Linear Configuration**\n",
        "   - Get API key from Linear (Settings → API)\n",
        "   - Get your Team ID\n",
        "   - GraphQL endpoint: https://api.linear.app/graphql\n",
        "\n",
        "2. **Mistral AI Configuration**\n",
        "   - Get API key from Mistral AI\n",
        "   - We use \"mistral-large-latest\" model"
      ]
    },
    {
      "cell_type": "code",
      "execution_count": 4,
      "metadata": {
        "id": "YiV-lG0mH_XP"
      },
      "outputs": [],
      "source": [
        "@dataclass\n",
        "class Config:\n",
        "    \"\"\"Configuration settings for the application.\"\"\"\n",
        "    LINEAR_API_KEY: str # OAuth token for Linear API authentication\n",
        "    LINEAR_TEAM_ID: str # Unique identifier for your Linear team/project\n",
        "    LINEAR_GRAPHQL_URL: str # Linear's GraphQL API endpoint (usually \"https://api.linear.app/graphql\")\n",
        "    MISTRAL_API_KEY: str # API Key for accessing Mistral LLMs\n",
        "    MISTRAL_MODEL: str # Specific Mistral model to use (e.g., \"mistral-large-latest\")\n",
        "\n",
        "config = Config(\n",
        "    LINEAR_API_KEY = \"47b29909f908c923c6a40b8dfa39f5a0\",\n",
        "    LINEAR_TEAM_ID = \"demo_arun\",\n",
        "    LINEAR_GRAPHQL_URL = \"https://api.linear.app/graphql\",\n",
        "    MISTRAL_API_KEY = \"FLNQ3d4fQLCEvLKp58udpN3393sk3reM\", # Get your API key from https://console.mistral.ai/api-keys/\n",
        "    MISTRAL_MODEL = \"ministral-large-latest\",\n",
        ")"
      ]
    },
    {
      "cell_type": "markdown",
      "metadata": {
        "id": "3hU03MD7H_XP"
      },
      "source": [
        "### Data Models\n",
        "\n",
        "We also define our data structures for Features and descriptions that we create on Linear based on PRD."
      ]
    },
    {
      "cell_type": "code",
      "execution_count": 5,
      "metadata": {
        "id": "YxIsVnmVH_XP"
      },
      "outputs": [],
      "source": [
        "class FeaturesList(BaseModel):\n",
        "    \"\"\"Pydantic model for structured feature data.\"\"\"\n",
        "    Features: List[str]\n",
        "    DescriptionOfFeatures: List[str]"
      ]
    },
    {
      "cell_type": "markdown",
      "metadata": {
        "id": "3q1lbyKLH_XP"
      },
      "source": [
        "### PRD Generation Agent\n",
        "\n",
        "The PRD Generation Agent (`PRDAgent`) is responsible for converting call transcripts into accurate PRDs through an iterative process:\n",
        "\n",
        "1. First creates initial PRD (`generate_initial_prd`)\n",
        "2. Then gets feedback (`get_feedback`)\n",
        "3. Refines based on feedback (`refine_prd`)\n",
        "4. Repeats until quality is satisfactory (max 3 times) (`run`)\n",
        "\n",
        "\n"
      ]
    },
    {
      "cell_type": "code",
      "execution_count": 6,
      "metadata": {
        "id": "2T9TPmGFH_XP"
      },
      "outputs": [],
      "source": [
        "class PRDAgent:\n",
        "    \"\"\"Agent responsible for generating and refining PRD from transcripts.\"\"\"\n",
        "\n",
        "    def __init__(self, transcript: str, mistral_client: Mistral, model: str = \"mistral-large-latest\"):\n",
        "        \"\"\"\n",
        "        Initialize PRD agent.\n",
        "\n",
        "        Args:\n",
        "            transcript (str): Call transcript text\n",
        "            mistral_client (Mistral): Initialized Mistral client\n",
        "            model (str): Model name to use\n",
        "        \"\"\"\n",
        "        self.transcript: str = transcript\n",
        "        self.prd: Optional[str] = None\n",
        "        self.feedback: Optional[str] = None\n",
        "        self.client: Mistral = mistral_client\n",
        "        self.model: str = model\n",
        "\n",
        "    def generate_initial_prd(self) -> str:\n",
        "        \"\"\"\n",
        "        Generate initial PRD from transcript.\n",
        "\n",
        "        Returns:\n",
        "            str: Generated PRD text\n",
        "        \"\"\"\n",
        "        prompt = f\"\"\"\n",
        "        Based on the following call transcript, create an initial Product Requirements Document (PRD) with some or all of these sections:\n",
        "        1. Title\n",
        "        2. Purpose\n",
        "        3. Scope\n",
        "        4. Features and Requirements\n",
        "        5. User Personas\n",
        "        6. Technical Requirements\n",
        "        7. Constraints\n",
        "        8. Success Metrics\n",
        "        9. Timeline and Milestones\n",
        "\n",
        "        Transcript:\n",
        "        {self.transcript}\n",
        "\n",
        "        Align everything only with the information provided in the transcript. If any section is not present in the transcript, you can skip it in the PRD.\n",
        "\n",
        "        PRD:\n",
        "        \"\"\"\n",
        "        response = self.client.chat.complete(\n",
        "            model=self.model,\n",
        "            messages=[{\"role\": \"user\", \"content\": prompt}],\n",
        "            temperature=0.1\n",
        "        )\n",
        "        self.prd = response.choices[0].message.content\n",
        "        return self.prd\n",
        "\n",
        "    def get_feedback(self) -> str:\n",
        "        \"\"\"\n",
        "        Get feedback on current PRD.\n",
        "\n",
        "        Returns:\n",
        "            str: Feedback text\n",
        "        \"\"\"\n",
        "        prompt = f\"\"\"\n",
        "            Review the following Product Requirements Document (PRD) based on the original call transcript. Provide feedback on:\n",
        "            - Missing information in PRD that are present in the transcript.\n",
        "            - Inconsistencies in the PRD that are not aligned with the transcript.\n",
        "\n",
        "            Transcript:\n",
        "            {self.transcript}\n",
        "\n",
        "            Current PRD:\n",
        "            {self.prd}\n",
        "\n",
        "            Align the feedback only with the information provided in the transcript. We are not looking for additional information based on your knowledge.\n",
        "\n",
        "            If no feedback is required, respond with \"None.\" and don't provide any further feedback. Your task is only to review the alignment between the PRD and the transcript and provide feedback based on that. Don't refine the PRD at this stage.\n",
        "\n",
        "            Feedback:\n",
        "            \"\"\"\n",
        "        response = self.client.chat.complete(\n",
        "            model=self.model,\n",
        "            messages=[{\"role\": \"user\", \"content\": prompt}],\n",
        "            temperature=0.1\n",
        "        )\n",
        "        self.feedback = response.choices[0].message.content\n",
        "        return self.feedback\n",
        "\n",
        "    def refine_prd(self) -> str:\n",
        "        \"\"\"\n",
        "        Refine PRD based on feedback.\n",
        "\n",
        "        Returns:\n",
        "            str: Refined PRD text\n",
        "        \"\"\"\n",
        "        prompt = f\"\"\"\n",
        "        Refine the PRD based on the provided feedback and aligning it with the transcript:\n",
        "\n",
        "        Current PRD:\n",
        "        {self.prd}\n",
        "\n",
        "        Feedback:\n",
        "        {self.feedback}\n",
        "\n",
        "        Transcript:\n",
        "        {self.transcript}\n",
        "        \"\"\"\n",
        "        response = self.client.chat.complete(\n",
        "            model=self.model,\n",
        "            messages=[{\"role\": \"user\", \"content\": prompt}],\n",
        "            temperature=0.1\n",
        "        )\n",
        "        self.prd = response.choices[0].message.content\n",
        "        return self.prd\n",
        "\n",
        "    def run(self, max_iterations: int = 3) -> str:\n",
        "        \"\"\"\n",
        "        Run the PRD generation and refinement process.\n",
        "\n",
        "        Args:\n",
        "            max_iterations (int): Maximum number of refinement iterations\n",
        "\n",
        "        Returns:\n",
        "            str: Final PRD text\n",
        "        \"\"\"\n",
        "        print(\"Generating initial PRD...\")\n",
        "        self.generate_initial_prd()\n",
        "        print(f\"Initial PRD:\\n{self.prd}\")\n",
        "\n",
        "        for iteration in range(max_iterations):\n",
        "            print(f\"\\nIteration {iteration}: Requesting feedback...\")\n",
        "            feedback = self.get_feedback()\n",
        "            print(f\"Feedback:\\n{feedback}\")\n",
        "\n",
        "            if \"none\" in feedback.strip().lower():\n",
        "                print(\"\\nNo further feedback. Finalizing PRD...\")\n",
        "                break\n",
        "\n",
        "            print(\"\\nRefining PRD...\")\n",
        "            self.refine_prd()\n",
        "            print(f\"Refined PRD:\\n{self.prd}\")\n",
        "\n",
        "        return self.prd"
      ]
    },
    {
      "cell_type": "markdown",
      "metadata": {
        "id": "zauysE7tH_XQ"
      },
      "source": [
        "### Ticket Creation Agent\n",
        "\n",
        "The Ticket Creation Agent converts PRDs into actionable tickets on Linear through three main steps:\n",
        "\n",
        "1. Parses PRD into structured features and descriptions (`parse_prd`)\n",
        "2. Converts each feature into a ticket format (`create_ticket`)\n",
        "3. Creates tickets in Linear via GraphQL API (`create_tickets_from_prd`)"
      ]
    },
    {
      "cell_type": "code",
      "execution_count": 7,
      "metadata": {
        "id": "0W4MR-aTH_XQ"
      },
      "outputs": [],
      "source": [
        "class TicketCreationAgent:\n",
        "    \"\"\"Agent responsible for creating Linear tickets from PRD.\"\"\"\n",
        "\n",
        "    def __init__(self, api_key: str, team_id: str, mistral_client: Mistral, graphql_url: str):\n",
        "        \"\"\"\n",
        "        Initialize Linear ticket agent.\n",
        "\n",
        "        Args:\n",
        "            api_key (str): Linear API key\n",
        "            team_id (str): Linear team ID\n",
        "            mistral_client (Mistral): Initialized Mistral client\n",
        "            graphql_url (str): Linear GraphQL API URL\n",
        "        \"\"\"\n",
        "        self.client = Client(\n",
        "            transport=RequestsHTTPTransport(\n",
        "                url=graphql_url,\n",
        "                headers={'Authorization': api_key},\n",
        "                verify=True,\n",
        "                retries=3\n",
        "            ),\n",
        "            fetch_schema_from_transport=True\n",
        "        )\n",
        "        self.team_id = team_id\n",
        "        self.mistral_client = mistral_client\n",
        "\n",
        "    def parse_prd(self, prd_text: str) -> Dict[str, List[str]]:\n",
        "        \"\"\"\n",
        "        Parse PRD into structured feature data.\n",
        "\n",
        "        Args:\n",
        "            prd_text (str): PRD text to parse\n",
        "\n",
        "        Returns:\n",
        "            Dict[str, List[str]]: Structured feature data\n",
        "        \"\"\"\n",
        "        messages = [\n",
        "            {\n",
        "                \"role\": \"system\",\n",
        "                \"content\": (\n",
        "                    \"You are an AI assistant helping to create Features list and their descriptions from a Product Requirements Document (PRD).\"\n",
        "                    \"The description should contain a brief explanation of the feature that includes Technical requirements (if any), Constraints (if any), Success metrics (if any), User personas (if any), and Timeline and Milestones (if any).\"\n",
        "                )\n",
        "            },\n",
        "            {\n",
        "                \"role\": \"user\",\n",
        "                \"content\": f\"PRD:\\n\\n{prd_text}\"\n",
        "            }\n",
        "        ]\n",
        "\n",
        "        chat_response = self.mistral_client.chat.parse(\n",
        "            model=\"mistral-large-latest\",\n",
        "            messages=messages,\n",
        "            response_format=FeaturesList,\n",
        "            max_tokens=2048,\n",
        "            temperature=0.1\n",
        "        )\n",
        "\n",
        "        return json.loads(chat_response.choices[0].message.content)\n",
        "\n",
        "    def create_ticket(self, title: str, description: str) -> Dict[str, Any]:\n",
        "        \"\"\"\n",
        "        Create a single Linear ticket.\n",
        "\n",
        "        Args:\n",
        "            title (str): Ticket title\n",
        "            description (str): Ticket description\n",
        "\n",
        "        Returns:\n",
        "            Dict[str, Any]: Creation result from Linear API\n",
        "        \"\"\"\n",
        "        mutation = gql(\"\"\"\n",
        "        mutation CreateIssue($title: String!, $description: String!, $teamId: String!) {\n",
        "            issueCreate(\n",
        "                input: {\n",
        "                    title: $title,\n",
        "                    description: $description,\n",
        "                    teamId: $teamId\n",
        "                }\n",
        "            ) {\n",
        "                success\n",
        "                issue {\n",
        "                    id\n",
        "                    url\n",
        "                }\n",
        "            }\n",
        "        }\n",
        "        \"\"\")\n",
        "\n",
        "        variables = {\n",
        "            \"title\": title,\n",
        "            \"description\": description,\n",
        "            \"teamId\": self.team_id\n",
        "        }\n",
        "\n",
        "        result = self.client.execute(mutation, variable_values=variables)\n",
        "        print(f\"Created ticket: {result['issueCreate']['issue']['url']}\")\n",
        "        return result\n",
        "\n",
        "    def create_tickets_from_prd(self, parsed_items: Dict[str, List[str]]) -> List[Dict[str, Any]]:\n",
        "        \"\"\"\n",
        "        Create Linear tickets from parsed PRD items.\n",
        "\n",
        "        Args:\n",
        "            parsed_items (Dict[str, List[str]]): Parsed feature data\n",
        "\n",
        "        Returns:\n",
        "            List[Dict[str, Any]]: List of ticket creation results\n",
        "        \"\"\"\n",
        "        results = []\n",
        "        for title, description in zip(\n",
        "            parsed_items['Features'],\n",
        "            parsed_items['DescriptionOfFeatures']\n",
        "        ):\n",
        "            result = self.create_ticket(title, description)\n",
        "            results.append(result)\n",
        "        return results\n"
      ]
    },
    {
      "cell_type": "markdown",
      "metadata": {
        "id": "RRiQd7FwH_XQ"
      },
      "source": [
        "### Workflow Orchestrator\n",
        "\n",
        "The Workflow Orchestrator:\n",
        "- Coordinates the entire process\n",
        "- Manages communication between agents\n",
        "- Handles the overall workflow"
      ]
    },
    {
      "cell_type": "code",
      "execution_count": 8,
      "metadata": {
        "id": "KEax9c1WH_XQ"
      },
      "outputs": [],
      "source": [
        "class WorkflowOrchestrator:\n",
        "    \"\"\"Orchestrates the entire workflow from transcript to Linear tickets.\"\"\"\n",
        "\n",
        "    def __init__(self, config: Config, transcript: str):\n",
        "        \"\"\"\n",
        "        Initialize workflow orchestrator.\n",
        "\n",
        "        Args:\n",
        "            config (Config): Application configuration\n",
        "            transcript (str): Call transcript text\n",
        "        \"\"\"\n",
        "        mistral_client = Mistral(api_key=config.MISTRAL_API_KEY)\n",
        "        self.prd_agent = PRDAgent(\n",
        "            transcript=transcript,\n",
        "            mistral_client=mistral_client\n",
        "        )\n",
        "        self.linear_agent = TicketCreationAgent(\n",
        "            api_key=config.LINEAR_API_KEY,\n",
        "            team_id=config.LINEAR_TEAM_ID,\n",
        "            mistral_client=mistral_client,\n",
        "            graphql_url=config.LINEAR_GRAPHQL_URL\n",
        "        )\n",
        "\n",
        "    def run(self) -> Dict[str, Any]:\n",
        "        \"\"\"\n",
        "        Run the complete workflow.\n",
        "\n",
        "        Returns:\n",
        "            Dict[str, Any]: Workflow results including PRD and ticket data\n",
        "        \"\"\"\n",
        "        print(\"Generating and finalizing PRD...\")\n",
        "        prd = self.prd_agent.run()\n",
        "\n",
        "        print(\"\\nParsing PRD into actionable items...\")\n",
        "        parsed_items = self.linear_agent.parse_prd(prd)\n",
        "\n",
        "        print(\"\\nCreating Linear tickets...\")\n",
        "        ticket_results = self.linear_agent.create_tickets_from_prd(parsed_items)\n",
        "\n",
        "        return {\n",
        "            \"prd\": prd,\n",
        "            \"parsed_items\": parsed_items,\n",
        "            \"ticket_results\": ticket_results\n",
        "        }"
      ]
    },
    {
      "cell_type": "markdown",
      "source": [
        "### Parse The Call Transcript\n",
        "\n",
        "We will use Mistral OCR model to parse the downloaded call transcript file."
      ],
      "metadata": {
        "id": "2J71NcMs3_cQ"
      }
    },
    {
      "cell_type": "code",
      "source": [
        "def parse_transcript(config: Config, file_path: str) -> str:\n",
        "  \"\"\"Parse a transcriot PDF file and extract text from all pages using Mistral OCR.\"\"\"\n",
        "\n",
        "  mistral_client = Mistral(api_key=config.MISTRAL_API_KEY)\n",
        "\n",
        "  uploaded_pdf = mistral_client.files.upload(\n",
        "      file={\n",
        "          \"file_name\": file_path,\n",
        "          \"content\": open(file_path, \"rb\"),\n",
        "      },\n",
        "      purpose=\"ocr\"\n",
        "  )\n",
        "\n",
        "  signed_url = mistral_client.files.get_signed_url(file_id=uploaded_pdf.id)\n",
        "\n",
        "  ocr_response = mistral_client.ocr.process(\n",
        "      model=\"mistral-ocr-latest\",\n",
        "      document={\n",
        "          \"type\": \"document_url\",\n",
        "          \"document_url\": signed_url.url,\n",
        "      }\n",
        "  )\n",
        "\n",
        "  text = \"\\n\".join([x.markdown for x in (ocr_response.pages)])\n",
        "\n",
        "  return text"
      ],
      "metadata": {
        "id": "i1iZ6fWw3qBO"
      },
      "execution_count": 9,
      "outputs": []
    },
    {
      "cell_type": "code",
      "source": [
        "transcript = parse_transcript(config, \"./lechat_product_call_trascript.pdf\")"
      ],
      "metadata": {
        "id": "GHAHLu5B4X9w"
      },
      "execution_count": 10,
      "outputs": []
    },
    {
      "cell_type": "markdown",
      "metadata": {
        "id": "gUkVeRgVH_XQ"
      },
      "source": [
        "### Running the Pipeline\n",
        "\n",
        "Let's test the pipeline with a sample transcript that discusses about LeChat product call."
      ]
    },
    {
      "cell_type": "code",
      "execution_count": null,
      "metadata": {
        "colab": {
          "base_uri": "https://localhost:8080/"
        },
        "id": "uK_HWwSFH_XQ",
        "outputId": "8432ac3f-d1ca-4865-a8d6-e7a5779d2655"
      },
      "outputs": [
        {
          "output_type": "stream",
          "name": "stdout",
          "text": [
            "Generating and finalizing PRD...\n",
            "Generating initial PRD...\n",
            "Initial PRD:\n",
            "# Product Requirements Document (PRD) for Le Chat\n",
            "\n",
            "## 1. Title\n",
            "Product Requirements Document for Le Chat AI Assistant\n",
            "\n",
            "## 2. Purpose\n",
            "The purpose of this PRD is to outline the requirements and features for the next update of Le Chat, our AI assistant. This document aims to address current challenges, enhance existing features, and introduce innovative functionalities to improve user experience and engagement.\n",
            "\n",
            "## 3. Scope\n",
            "This PRD covers the following areas:\n",
            "- Enhancements to existing features such as real-time translation, contextual memory, and third-party integrations.\n",
            "- Introduction of new features like customizable AI personas, community forums, and personalized learning experiences.\n",
            "- Improvements in user interface, accessibility, and security.\n",
            "- Data analytics and user feedback tools.\n",
            "\n",
            "## 4. Features and Requirements\n",
            "\n",
            "### Existing Feature Enhancements\n",
            "1. **Real-Time Translation**\n",
            "   - Improve accuracy and speed.\n",
            "   - Support more languages.\n",
            "\n",
            "2. **Contextual Memory**\n",
            "   - Enhance AI's ability to remember previous conversations.\n",
            "   - Integrate user preferences and habits into AI's memory.\n",
            "\n",
            "3. **Third-Party Integrations**\n",
            "   - Seamless integration with productivity tools like Trello, Asana, and Slack.\n",
            "   - Partnerships with tech companies for exclusive features.\n",
            "\n",
            "### New Features\n",
            "1. **Customizable AI Personas**\n",
            "   - Allow users to choose between different personas (friendly assistant, professional advisor, humorous companion).\n",
            "   - Explore dynamic personas that adapt to user's mood or context.\n",
            "\n",
            "2. **Community Forum**\n",
            "   - Create a platform for users to share tips, tricks, and best practices.\n",
            "   - Host regular webinars and Q&A sessions.\n",
            "\n",
            "3. **Creative Content Generation**\n",
            "   - Enable Le Chat to generate poems, stories, or jokes based on user inputs.\n",
            "   - Allow users to collaborate on creative projects.\n",
            "\n",
            "4. **Personalized Learning Experiences**\n",
            "   - Offer language learning courses, coding tutorials, or educational games.\n",
            "   - Tailor content to user's interests and skill level.\n",
            "\n",
            "### User Interface and Accessibility\n",
            "1. **Customizable Themes and Layouts**\n",
            "   - Allow users to personalize the look and feel of Le Chat.\n",
            "   - Introduce seasonal themes and limited-edition designs.\n",
            "\n",
            "2. **Accessibility Improvements**\n",
            "   - Conduct thorough accessibility testing.\n",
            "   - Make necessary adjustments to ensure usability for everyone, including those with disabilities.\n",
            "\n",
            "### Security and Privacy\n",
            "1. **Privacy Mode**\n",
            "   - Allow users to control what data is stored and for how long.\n",
            "   - Enable data anonymization and opt-out options.\n",
            "\n",
            "2. **Enhanced Security Features**\n",
            "   - Implement multi-factor authentication or biometric verification.\n",
            "   - Allow users to monitor and control access to their data.\n",
            "\n",
            "### Data Analytics\n",
            "1. **Advanced Analytics Features**\n",
            "   - Provide users with insights into their interactions with Le Chat.\n",
            "   - Track frequently asked questions, response times, and usage patterns.\n",
            "\n",
            "2. **Data Visualization Tools**\n",
            "   - Improve tools for analyzing user feedback and feature usage.\n",
            "   - Enhance data visualization capabilities for better insight communication.\n",
            "\n",
            "## 5. User Personas\n",
            "- **Tech-Savvy User**: Interested in advanced features and integrations.\n",
            "- **Creative User**: Enjoys generating and collaborating on creative content.\n",
            "- **Learning Enthusiast**: Seeks personalized learning experiences and educational content.\n",
            "- **Privacy-Conscious User**: Values control over data and enhanced security features.\n",
            "- **Accessibility-Focused User**: Requires a user-friendly interface that is accessible to all.\n",
            "\n",
            "## 6. Technical Requirements\n",
            "- **Infrastructure Optimization**: Address latency issues during peak usage times.\n",
            "- **Bug Fixes**: Resolve bugs in the real-time update feature.\n",
            "- **API Stability**: Ensure continued stability and ease of integration.\n",
            "- **Encryption Protocols**: Maintain robust encryption and regular security audits.\n",
            "\n",
            "## 7. Constraints\n",
            "- **Server Capacity**: Need to optimize infrastructure to handle traffic spikes.\n",
            "- **AI Limitations**: Improve AI's understanding of complex queries and context.\n",
            "- **Onboarding Complexity**: Simplify the onboarding process for new users.\n",
            "- **Accessibility Issues**: Address and resolve accessibility challenges.\n",
            "\n",
            "## 8. Success Metrics\n",
            "- **User Engagement**: Increase in user interactions and time spent with Le Chat.\n",
            "- **Retention Rates**: Higher retention rates due to personalization features.\n",
            "- **New User Sign-Ups**: Continued increase in new user sign-ups.\n",
            "- **User Feedback**: Positive feedback on new features and improvements.\n",
            "- **Security Incidents**: Reduction in security incidents and swift resolution of any issues.\n",
            "\n",
            "## 9. Timeline and Milestones\n",
            "- **Q1**: Conduct accessibility testing and make necessary adjustments.\n",
            "- **Q2**: Implement real-time translation enhancements and support more languages.\n",
            "- **Q3**: Introduce customizable AI personas and community forum.\n",
            "- **Q4**: Launch personalized learning experiences and creative content generation features.\n",
            "- **Ongoing**: Regular security audits and infrastructure optimization.\n",
            "\n",
            "---\n",
            "\n",
            "This PRD will serve as a guide for the development team to prioritize and implement the discussed features and improvements for Le Chat.\n",
            "\n",
            "Iteration 0: Requesting feedback...\n",
            "Feedback:\n",
            "### Missing Information in PRD that are Present in the Transcript:\n",
            "\n",
            "1. **Positive Feedback on Integration and Performance**:\n",
            "   - The transcript mentions that the integration with various platforms has been seamless and the API has been stable. This positive feedback is not explicitly mentioned in the PRD.\n",
            "\n",
            "2. **Natural Language Processing Capabilities**:\n",
            "   - The transcript highlights that users are raving about the natural language processing capabilities and personalization features. This specific feedback is not included in the PRD.\n",
            "\n",
            "3. **Marketing Success**:\n",
            "   - The transcript notes a substantial boost in user engagement and a 30% increase in new user sign-ups due to the recent campaign highlighting Le Chat's adaptability. This marketing success is not mentioned in the PRD.\n",
            "\n",
            "4. **User Interface Feedback**:\n",
            "   - The transcript mentions that the user interface has been well-received, with users finding it clean and easy to navigate. This positive feedback on the UI is not included in the PRD.\n",
            "\n",
            "5. **Data Analytics Insights**:\n",
            "   - The transcript discusses a significant increase in user interactions and engagement metrics, which is a strong indicator that the current feature set is resonating well with the user base. This specific insight is not mentioned in the PRD.\n",
            "\n",
            "6. **Security Feedback**:\n",
            "   - The transcript highlights positive feedback from users regarding privacy policies and robust encryption protocols. This specific feedback is not included in the PRD.\n",
            "\n",
            "7. **Onboarding Process**:\n",
            "   - The transcript mentions the need for a smoother onboarding process, perhaps with interactive tutorials. This specific suggestion is not detailed in the PRD.\n",
            "\n",
            "8. **In-App Messaging**:\n",
            "   - The transcript suggests improving in-app messaging to better communicate new features and updates. This specific suggestion is not included in the PRD.\n",
            "\n",
            "9. **Data Visualization Tools**:\n",
            "   - The transcript mentions the need for better tools for analyzing user feedback and feature usage, as well as improving data visualization capabilities. This specific need is not detailed in the PRD.\n",
            "\n",
            "10. **Incident Response Plan**:\n",
            "    - The transcript mentions the need to improve the incident response plan to ensure that any security issues are addressed swiftly and effectively. This specific need is not included in the PRD.\n",
            "\n",
            "### Inconsistencies in the PRD that are not Aligned with the Transcript:\n",
            "\n",
            "1. **Privacy Mode**:\n",
            "   - The PRD mentions \"Privacy Mode\" under both \"New Features\" and \"Security and Privacy.\" The transcript only mentions it under new features, suggesting it might be redundant in the PRD.\n",
            "\n",
            "2. **Enhanced Security Features**:\n",
            "   - The PRD lists \"Enhanced Security Features\" under \"Security and Privacy,\" but the transcript does not explicitly mention this as a new feature. It is discussed more in the context of ongoing improvements rather than a new feature.\n",
            "\n",
            "3. **User Personas**:\n",
            "   - The PRD lists specific user personas, but the transcript does not explicitly define these personas. The personas in the PRD seem to be an interpretation rather than a direct reflection of the transcript.\n",
            "\n",
            "4. **Technical Requirements**:\n",
            "   - The PRD lists \"API Stability\" under \"Technical Requirements,\" but the transcript mentions that the API has been stable, suggesting this might not be a current requirement but rather a maintained status.\n",
            "\n",
            "5. **Constraints**:\n",
            "   - The PRD lists \"AI Limitations\" under \"Constraints,\" but the transcript discusses this more as an area for improvement rather than a constraint.\n",
            "\n",
            "6. **Success Metrics**:\n",
            "   - The PRD lists \"Security Incidents\" under \"Success Metrics,\" but the transcript does not explicitly mention this as a success metric. It is discussed more in the context of ongoing improvements.\n",
            "\n",
            "By addressing these points, the PRD can be better aligned with the information provided in the transcript.\n",
            "\n",
            "Refining PRD...\n",
            "Refined PRD:\n",
            "# Product Requirements Document (PRD) for Le Chat\n",
            "\n",
            "## 1. Title\n",
            "Product Requirements Document for Le Chat AI Assistant\n",
            "\n",
            "## 2. Purpose\n",
            "The purpose of this PRD is to outline the requirements and features for the next update of Le Chat, our AI assistant. This document aims to address current challenges, enhance existing features, and introduce innovative functionalities to improve user experience and engagement.\n",
            "\n",
            "## 3. Scope\n",
            "This PRD covers the following areas:\n",
            "- Enhancements to existing features such as real-time translation, contextual memory, and third-party integrations.\n",
            "- Introduction of new features like customizable AI personas, community forums, and personalized learning experiences.\n",
            "- Improvements in user interface, accessibility, and security.\n",
            "- Data analytics and user feedback tools.\n",
            "\n",
            "## 4. Features and Requirements\n",
            "\n",
            "### Existing Feature Enhancements\n",
            "1. **Real-Time Translation**\n",
            "   - Improve accuracy and speed.\n",
            "   - Support more languages.\n",
            "\n",
            "2. **Contextual Memory**\n",
            "   - Enhance AI's ability to remember previous conversations.\n",
            "   - Integrate user preferences and habits into AI's memory.\n",
            "\n",
            "3. **Third-Party Integrations**\n",
            "   - Seamless integration with productivity tools like Trello, Asana, and Slack.\n",
            "   - Partnerships with tech companies for exclusive features.\n",
            "\n",
            "### New Features\n",
            "1. **Customizable AI Personas**\n",
            "   - Allow users to choose between different personas (friendly assistant, professional advisor, humorous companion).\n",
            "   - Explore dynamic personas that adapt to user's mood or context.\n",
            "\n",
            "2. **Community Forum**\n",
            "   - Create a platform for users to share tips, tricks, and best practices.\n",
            "   - Host regular webinars and Q&A sessions.\n",
            "\n",
            "3. **Creative Content Generation**\n",
            "   - Enable Le Chat to generate poems, stories, or jokes based on user inputs.\n",
            "   - Allow users to collaborate on creative projects.\n",
            "\n",
            "4. **Personalized Learning Experiences**\n",
            "   - Offer language learning courses, coding tutorials, or educational games.\n",
            "   - Tailor content to user's interests and skill level.\n",
            "\n",
            "### User Interface and Accessibility\n",
            "1. **Customizable Themes and Layouts**\n",
            "   - Allow users to personalize the look and feel of Le Chat.\n",
            "   - Introduce seasonal themes and limited-edition designs.\n",
            "\n",
            "2. **Accessibility Improvements**\n",
            "   - Conduct thorough accessibility testing.\n",
            "   - Make necessary adjustments to ensure usability for everyone, including those with disabilities.\n",
            "\n",
            "### Security and Privacy\n",
            "1. **Privacy Mode**\n",
            "   - Allow users to control what data is stored and for how long.\n",
            "   - Enable data anonymization and opt-out options.\n",
            "\n",
            "2. **Enhanced Security Features**\n",
            "   - Implement multi-factor authentication or biometric verification.\n",
            "   - Allow users to monitor and control access to their data.\n",
            "\n",
            "### Data Analytics\n",
            "1. **Advanced Analytics Features**\n",
            "   - Provide users with insights into their interactions with Le Chat.\n",
            "   - Track frequently asked questions, response times, and usage patterns.\n",
            "\n",
            "2. **Data Visualization Tools**\n",
            "   - Improve tools for analyzing user feedback and feature usage.\n",
            "   - Enhance data visualization capabilities for better insight communication.\n",
            "\n",
            "## 5. User Personas\n",
            "- **Tech-Savvy User**: Interested in advanced features and integrations.\n",
            "- **Creative User**: Enjoys generating and collaborating on creative content.\n",
            "- **Learning Enthusiast**: Seeks personalized learning experiences and educational content.\n",
            "- **Privacy-Conscious User**: Values control over data and enhanced security features.\n",
            "- **Accessibility-Focused User**: Requires a user-friendly interface that is accessible to all.\n",
            "\n",
            "## 6. Technical Requirements\n",
            "- **Infrastructure Optimization**: Address latency issues during peak usage times.\n",
            "- **Bug Fixes**: Resolve bugs in the real-time update feature.\n",
            "- **API Stability**: Ensure continued stability and ease of integration.\n",
            "- **Encryption Protocols**: Maintain robust encryption and regular security audits.\n",
            "\n",
            "## 7. Constraints\n",
            "- **Server Capacity**: Need to optimize infrastructure to handle traffic spikes.\n",
            "- **AI Limitations**: Improve AI's understanding of complex queries and context.\n",
            "- **Onboarding Complexity**: Simplify the onboarding process for new users.\n",
            "- **Accessibility Issues**: Address and resolve accessibility challenges.\n",
            "\n",
            "## 8. Success Metrics\n",
            "- **User Engagement**: Increase in user interactions and time spent with Le Chat.\n",
            "- **Retention Rates**: Higher retention rates due to personalization features.\n",
            "- **New User Sign-Ups**: Continued increase in new user sign-ups.\n",
            "- **User Feedback**: Positive feedback on new features and improvements.\n",
            "- **Security Incidents**: Reduction in security incidents and swift resolution of any issues.\n",
            "\n",
            "## 9. Timeline and Milestones\n",
            "- **Q1**: Conduct accessibility testing and make necessary adjustments.\n",
            "- **Q2**: Implement real-time translation enhancements and support more languages.\n",
            "- **Q3**: Introduce customizable AI personas and community forum.\n",
            "- **Q4**: Launch personalized learning experiences and creative content generation features.\n",
            "- **Ongoing**: Regular security audits and infrastructure optimization.\n",
            "\n",
            "## 10. Positive Feedback and Marketing Success\n",
            "- **Integration and Performance**: The integration with various platforms has been seamless, and the API has been stable.\n",
            "- **Natural Language Processing Capabilities**: Users are raving about the natural language processing capabilities and personalization features.\n",
            "- **Marketing Success**: A substantial boost in user engagement and a 30% increase in new user sign-ups due to the recent campaign highlighting Le Chat's adaptability.\n",
            "- **User Interface Feedback**: The user interface has been well-received, with users finding it clean and easy to navigate.\n",
            "- **Data Analytics Insights**: A significant increase in user interactions and engagement metrics, indicating that the current feature set is resonating well with the user base.\n",
            "- **Security Feedback**: Positive feedback from users regarding privacy policies and robust encryption protocols.\n",
            "\n",
            "## 11. Additional Suggestions\n",
            "- **Onboarding Process**: Need for a smoother onboarding process, perhaps with interactive tutorials.\n",
            "- **In-App Messaging**: Improve in-app messaging to better communicate new features and updates.\n",
            "- **Data Visualization Tools**: Need for better tools for analyzing user feedback and feature usage, as well as improving data visualization capabilities.\n",
            "- **Incident Response Plan**: Improve the incident response plan to ensure that any security issues are addressed swiftly and effectively.\n",
            "\n",
            "This PRD will serve as a guide for the development team to prioritize and implement the discussed features and improvements for Le Chat.\n",
            "\n",
            "Iteration 1: Requesting feedback...\n"
          ]
        }
      ],
      "source": [
        "orchestrator = WorkflowOrchestrator(config, transcript)\n",
        "results = orchestrator.run()"
      ]
    },
    {
      "cell_type": "markdown",
      "metadata": {
        "id": "fICWV8HwH_XQ"
      },
      "source": [
        "### Understanding the Output\n",
        "The pipeline produces:\n",
        "1. A structured PRD\n",
        "2. List of features and descriptions\n",
        "3. Linear tickets with URLs"
      ]
    },
    {
      "cell_type": "markdown",
      "metadata": {
        "id": "OHKyJ1QWH_XQ"
      },
      "source": [
        "#### PRD"
      ]
    },
    {
      "cell_type": "code",
      "execution_count": null,
      "metadata": {
        "id": "kJ_8CaskH_XQ"
      },
      "outputs": [],
      "source": [
        "print(results[\"prd\"])"
      ]
    },
    {
      "cell_type": "markdown",
      "metadata": {
        "id": "AN7ZqJG1H_XQ"
      },
      "source": [
        "#### Features"
      ]
    },
    {
      "cell_type": "code",
      "execution_count": null,
      "metadata": {
        "id": "4PQPT_2OH_XQ"
      },
      "outputs": [],
      "source": [
        "for feature, desc in zip(\n",
        "    results[\"parsed_items\"][\"Features\"],\n",
        "    results[\"parsed_items\"][\"DescriptionOfFeatures\"]\n",
        "):\n",
        "    print(f\"\\nFeature: {feature}\")\n",
        "    print(f\"Description: {desc}\")"
      ]
    },
    {
      "cell_type": "markdown",
      "metadata": {
        "id": "J4gZnCBLH_XR"
      },
      "source": [
        "#### Linear Tickets Created"
      ]
    },
    {
      "cell_type": "code",
      "execution_count": null,
      "metadata": {
        "id": "KwSW8JqFH_XR"
      },
      "outputs": [],
      "source": [
        "for result in results[\"ticket_results\"]:\n",
        "    print(result)"
      ]
    },
    {
      "cell_type": "markdown",
      "metadata": {
        "id": "5MHur9_XH_XR"
      },
      "source": [
        "#### Here is a sample image showing how the tickets will be created in the Linear UI. (The tickets will vary based on the transcript.)"
      ]
    },
    {
      "cell_type": "markdown",
      "metadata": {
        "id": "GT9JbCiBH_XR"
      },
      "source": [
        "![LinearTicket](https://github.com/mistralai/cookbook/blob/main/mistral/agents/transcript_linearticket_agent/linear_tickets.png?raw=1)"
      ]
    },
    {
      "cell_type": "markdown",
      "metadata": {
        "id": "onJIvYPsH_XR"
      },
      "source": [
        "### Next Steps\n",
        "You can extend this pipeline by:\n",
        "1. Adding priority levels to tickets.\n",
        "2. Including custom fields in Linear tickets.\n",
        "3. Incorporate similar pipeline with Jira."
      ]
    }
  ],
  "metadata": {
    "colab": {
      "provenance": []
    },
    "kernelspec": {
      "display_name": "mistral",
      "language": "python",
      "name": "mistral"
    },
    "language_info": {
      "codemirror_mode": {
        "name": "ipython",
        "version": 3
      },
      "file_extension": ".py",
      "mimetype": "text/x-python",
      "name": "python",
      "nbconvert_exporter": "python",
      "pygments_lexer": "ipython3",
      "version": "3.9.6"
    }
  },
  "nbformat": 4,
  "nbformat_minor": 0
}